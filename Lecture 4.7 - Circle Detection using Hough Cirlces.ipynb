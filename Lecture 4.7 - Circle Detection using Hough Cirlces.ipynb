{
 "cells": [
  {
   "cell_type": "markdown",
   "metadata": {},
   "source": [
    "# Circle Detection - Hough Cirlces\n",
    "\n",
    "**cv2.HoughCircles**(image, method, dp, MinDist, param1, param2, minRadius, MaxRadius)\n",
    "\n",
    "\n",
    "- Method - currently only cv2.HOUGH_GRADIENT available\n",
    "- dp - Inverse ratio of accumulator resolution\n",
    "- MinDist - the minimum distance between the center of detected circles\n",
    "- param1 - Gradient value used in the edge detection\n",
    "- param2 - Accumulator threshold for the HOUGH_GRADIENT method (lower allows more circles to be detected (false positives))\n",
    "- minRadius - limits the smallest circle to this size (via radius)\n",
    "- MaxRadius - similarly sets the limit for the largest circles\n",
    "\n"
   ]
  },
  {
   "cell_type": "code",
   "execution_count": null,
   "metadata": {},
   "outputs": [],
   "source": [
    "import cv2\n",
    "import numpy as np\n",
    "#import cv2.cv as cv\n",
    "\n",
    "#image = cv2.imread('images/bottlecaps.jpg')\n",
    "\n",
    "image = cv2.imread('images/Image_040.bmp')\n",
    "image_scaled = cv2.resize(image, None, fx=0.25, fy=0.25)\n",
    "gray = cv2.cvtColor(image_scaled, cv2.COLOR_BGR2GRAY)\n",
    "\n",
    "blur = cv2.medianBlur(gray, 7)\n",
    "\n",
    "cv2.imshow('gray', blur)\n",
    "cv2.waitKey(0)\n",
    "\n",
    "circles = cv2.HoughCircles(blur, cv2.HOUGH_GRADIENT, 1, 30, param1=100, param2=25, minRadius=40, maxRadius=70)\n",
    "#circles = cv2.HoughCircles(gray, cv.CV_HOUGH_GRADIENT, 1, 10)\n",
    "\n",
    "circles = np.uint16(np.around(circles))\n",
    "\n",
    "for i in circles[0,:]: \n",
    "    # draw the outer circle\n",
    "    cv2.circle(image_scaled,(i[0], i[1]), i[2], (255, 0, 0), 2)\n",
    "    \n",
    "    # draw the center of the circle\n",
    "    cv2.circle(image_scaled, (i[0], i[1]), 2, (0, 255, 0), 5)\n",
    "\n",
    "cv2.namedWindow('detected')\n",
    "cv2.moveWindow('detected', 100, 100)\n",
    "\n",
    "    \n",
    "cv2.imshow('detected', image_scaled)\n",
    "cv2.waitKey(0)\n",
    "cv2.destroyAllWindows()"
   ]
  },
  {
   "cell_type": "code",
   "execution_count": null,
   "metadata": {},
   "outputs": [],
   "source": []
  },
  {
   "cell_type": "code",
   "execution_count": null,
   "metadata": {},
   "outputs": [],
   "source": []
  },
  {
   "cell_type": "code",
   "execution_count": null,
   "metadata": {},
   "outputs": [],
   "source": []
  }
 ],
 "metadata": {
  "kernelspec": {
   "display_name": "Python 3",
   "language": "python",
   "name": "python3"
  },
  "language_info": {
   "codemirror_mode": {
    "name": "ipython",
    "version": 3
   },
   "file_extension": ".py",
   "mimetype": "text/x-python",
   "name": "python",
   "nbconvert_exporter": "python",
   "pygments_lexer": "ipython3",
   "version": "3.6.5"
  }
 },
 "nbformat": 4,
 "nbformat_minor": 1
}
